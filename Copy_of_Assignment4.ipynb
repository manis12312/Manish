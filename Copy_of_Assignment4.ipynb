{
  "nbformat": 4,
  "nbformat_minor": 0,
  "metadata": {
    "colab": {
      "name": "Copy of Assignment4.ipynb",
      "provenance": [],
      "collapsed_sections": [],
      "authorship_tag": "ABX9TyOC8ucP9aVkIg74CqLyepYG",
      "include_colab_link": true
    },
    "kernelspec": {
      "name": "python3",
      "display_name": "Python 3"
    }
  },
  "cells": [
    {
      "cell_type": "markdown",
      "metadata": {
        "id": "view-in-github",
        "colab_type": "text"
      },
      "source": [
        "<a href=\"https://colab.research.google.com/github/manis12312/Manish/blob/master/Copy_of_Assignment4.ipynb\" target=\"_parent\"><img src=\"https://colab.research.google.com/assets/colab-badge.svg\" alt=\"Open In Colab\"/></a>"
      ]
    },
    {
      "cell_type": "code",
      "metadata": {
        "id": "ZuKtzee0AVP1",
        "colab_type": "code",
        "colab": {}
      },
      "source": [
        "import math"
      ],
      "execution_count": null,
      "outputs": []
    },
    {
      "cell_type": "code",
      "metadata": {
        "id": "Y9HwiC_B83kH",
        "colab_type": "code",
        "colab": {
          "base_uri": "https://localhost:8080/",
          "height": 34
        },
        "outputId": "ce66934b-032f-442f-93c5-72f1e8fba2e6"
      },
      "source": [
        "class Areaoftriangle:\n",
        "  def __init__(self,a,b,c):\n",
        "    self.a=a\n",
        "    self.b=b\n",
        "    self.c=c\n",
        "  def area(self):\n",
        "    s=(self.a+self.b+self.c)/2\n",
        "    return (s*(s-self.a)*(s-self.b)*(s-self.c))**.5\n",
        "if __name__=='__main__':\n",
        "    p=Areaoftriangle(4,5,6)  \n",
        "    print(\"Area of triangle=\",p.area())\n",
        "\n"
      ],
      "execution_count": null,
      "outputs": [
        {
          "output_type": "stream",
          "text": [
            "Area of triangle= 9.921567416492215\n"
          ],
          "name": "stdout"
        }
      ]
    },
    {
      "cell_type": "code",
      "metadata": {
        "id": "htGHeMaaAT2o",
        "colab_type": "code",
        "colab": {}
      },
      "source": [
        "def filter_long_terms(lst,num):\n",
        "  lis=[]  \n",
        "  for i in lst:\n",
        "    if len(i)>num:\n",
        "      lis.append(i)\n",
        "  return lis\n",
        "\n",
        "     \n"
      ],
      "execution_count": null,
      "outputs": []
    },
    {
      "cell_type": "code",
      "metadata": {
        "id": "CA8BMfrsAT5s",
        "colab_type": "code",
        "colab": {
          "base_uri": "https://localhost:8080/",
          "height": 34
        },
        "outputId": "9a62012a-4f2f-49e6-aa14-428e0d7ab443"
      },
      "source": [
        "lst=['this','is','my','first','function']\n",
        "filter_long_terms(lst,2)\n"
      ],
      "execution_count": null,
      "outputs": [
        {
          "output_type": "execute_result",
          "data": {
            "text/plain": [
              "['this', 'first', 'function']"
            ]
          },
          "metadata": {
            "tags": []
          },
          "execution_count": 22
        }
      ]
    },
    {
      "cell_type": "code",
      "metadata": {
        "id": "RV1IyXw5Mgzd",
        "colab_type": "code",
        "colab": {
          "base_uri": "https://localhost:8080/",
          "height": 34
        },
        "outputId": "9967ab1d-0215-4479-ef6c-64accc949bb9"
      },
      "source": [
        "def filter_long_terms1(lst):\n",
        "  lis=[]  \n",
        "  for i in lst:\n",
        "     lis.append(len(i))\n",
        "  return lis\n",
        "filter_long_terms1(['this','is','my','first','functio'])"
      ],
      "execution_count": null,
      "outputs": [
        {
          "output_type": "execute_result",
          "data": {
            "text/plain": [
              "[4, 2, 2, 5, 7]"
            ]
          },
          "metadata": {
            "tags": []
          },
          "execution_count": 28
        }
      ]
    },
    {
      "cell_type": "code",
      "metadata": {
        "id": "q4sZ6CYhOiSg",
        "colab_type": "code",
        "colab": {}
      },
      "source": [
        "def is_vowel(char):\n",
        "    all_vowels = 'aeiou'\n",
        "    if char in all_vowels:\n",
        "      return True\n",
        "    else:\n",
        "        return False\n",
        "    \n",
        "\n"
      ],
      "execution_count": null,
      "outputs": []
    },
    {
      "cell_type": "code",
      "metadata": {
        "id": "7KyN51O5FRrI",
        "colab_type": "code",
        "colab": {
          "base_uri": "https://localhost:8080/",
          "height": 34
        },
        "outputId": "9d0b8aba-0e2a-4555-98c6-be27225664a5"
      },
      "source": [
        "is_vowel('m')\n"
      ],
      "execution_count": null,
      "outputs": [
        {
          "output_type": "execute_result",
          "data": {
            "text/plain": [
              "False"
            ]
          },
          "metadata": {
            "tags": []
          },
          "execution_count": 64
        }
      ]
    }
  ]
}